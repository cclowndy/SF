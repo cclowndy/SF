{
 "cells": [
  {
   "cell_type": "code",
   "execution_count": 1,
   "metadata": {},
   "outputs": [],
   "source": [
    "import torch\n",
    "import numpy as np\n",
    "import pandas as pd\n",
    "import matplotlib.pyplot as plt\n",
    "import torch.nn as nn \n",
    "from sklearn.preprocessing import MinMaxScaler\n",
    "from datetime import datetime\n",
    "from torch.utils.data import DataLoader"
   ]
  },
  {
   "cell_type": "code",
   "execution_count": 3,
   "metadata": {},
   "outputs": [
    {
     "data": {
      "text/html": [
       "<div>\n",
       "<style scoped>\n",
       "    .dataframe tbody tr th:only-of-type {\n",
       "        vertical-align: middle;\n",
       "    }\n",
       "\n",
       "    .dataframe tbody tr th {\n",
       "        vertical-align: top;\n",
       "    }\n",
       "\n",
       "    .dataframe thead th {\n",
       "        text-align: right;\n",
       "    }\n",
       "</style>\n",
       "<table border=\"1\" class=\"dataframe\">\n",
       "  <thead>\n",
       "    <tr style=\"text-align: right;\">\n",
       "      <th></th>\n",
       "      <th>Ticker</th>\n",
       "      <th>Date/Time</th>\n",
       "      <th>Open</th>\n",
       "      <th>High</th>\n",
       "      <th>Low</th>\n",
       "      <th>Close</th>\n",
       "      <th>Volume</th>\n",
       "    </tr>\n",
       "  </thead>\n",
       "  <tbody>\n",
       "    <tr>\n",
       "      <th>0</th>\n",
       "      <td>FPT</td>\n",
       "      <td>2018-12-25 09:15:00</td>\n",
       "      <td>30.89</td>\n",
       "      <td>30.89</td>\n",
       "      <td>30.89</td>\n",
       "      <td>30.89</td>\n",
       "      <td>35410</td>\n",
       "    </tr>\n",
       "    <tr>\n",
       "      <th>1</th>\n",
       "      <td>FPT</td>\n",
       "      <td>2018-12-25 09:16:00</td>\n",
       "      <td>30.81</td>\n",
       "      <td>30.81</td>\n",
       "      <td>30.81</td>\n",
       "      <td>30.81</td>\n",
       "      <td>190</td>\n",
       "    </tr>\n",
       "    <tr>\n",
       "      <th>2</th>\n",
       "      <td>FPT</td>\n",
       "      <td>2018-12-25 09:17:00</td>\n",
       "      <td>30.74</td>\n",
       "      <td>30.81</td>\n",
       "      <td>30.74</td>\n",
       "      <td>30.74</td>\n",
       "      <td>1120</td>\n",
       "    </tr>\n",
       "    <tr>\n",
       "      <th>3</th>\n",
       "      <td>FPT</td>\n",
       "      <td>2018-12-25 09:18:00</td>\n",
       "      <td>30.74</td>\n",
       "      <td>30.74</td>\n",
       "      <td>30.74</td>\n",
       "      <td>30.74</td>\n",
       "      <td>2120</td>\n",
       "    </tr>\n",
       "    <tr>\n",
       "      <th>4</th>\n",
       "      <td>FPT</td>\n",
       "      <td>2018-12-25 09:19:00</td>\n",
       "      <td>30.74</td>\n",
       "      <td>30.74</td>\n",
       "      <td>30.74</td>\n",
       "      <td>30.74</td>\n",
       "      <td>22500</td>\n",
       "    </tr>\n",
       "    <tr>\n",
       "      <th>...</th>\n",
       "      <td>...</td>\n",
       "      <td>...</td>\n",
       "      <td>...</td>\n",
       "      <td>...</td>\n",
       "      <td>...</td>\n",
       "      <td>...</td>\n",
       "      <td>...</td>\n",
       "    </tr>\n",
       "    <tr>\n",
       "      <th>97401</th>\n",
       "      <td>FPT</td>\n",
       "      <td>2020-12-22 14:24:00</td>\n",
       "      <td>58.20</td>\n",
       "      <td>58.20</td>\n",
       "      <td>58.20</td>\n",
       "      <td>58.20</td>\n",
       "      <td>27470</td>\n",
       "    </tr>\n",
       "    <tr>\n",
       "      <th>97402</th>\n",
       "      <td>FPT</td>\n",
       "      <td>2020-12-22 14:25:00</td>\n",
       "      <td>58.20</td>\n",
       "      <td>58.20</td>\n",
       "      <td>58.20</td>\n",
       "      <td>58.20</td>\n",
       "      <td>14820</td>\n",
       "    </tr>\n",
       "    <tr>\n",
       "      <th>97403</th>\n",
       "      <td>FPT</td>\n",
       "      <td>2020-12-22 14:26:00</td>\n",
       "      <td>58.20</td>\n",
       "      <td>58.20</td>\n",
       "      <td>58.20</td>\n",
       "      <td>58.20</td>\n",
       "      <td>500</td>\n",
       "    </tr>\n",
       "    <tr>\n",
       "      <th>97404</th>\n",
       "      <td>FPT</td>\n",
       "      <td>2020-12-22 14:29:00</td>\n",
       "      <td>58.10</td>\n",
       "      <td>58.10</td>\n",
       "      <td>58.10</td>\n",
       "      <td>58.10</td>\n",
       "      <td>2500</td>\n",
       "    </tr>\n",
       "    <tr>\n",
       "      <th>97405</th>\n",
       "      <td>FPT</td>\n",
       "      <td>2020-12-22 14:46:00</td>\n",
       "      <td>58.10</td>\n",
       "      <td>58.10</td>\n",
       "      <td>58.10</td>\n",
       "      <td>58.10</td>\n",
       "      <td>11170</td>\n",
       "    </tr>\n",
       "  </tbody>\n",
       "</table>\n",
       "<p>97406 rows × 7 columns</p>\n",
       "</div>"
      ],
      "text/plain": [
       "      Ticker           Date/Time   Open   High    Low  Close  Volume\n",
       "0        FPT 2018-12-25 09:15:00  30.89  30.89  30.89  30.89   35410\n",
       "1        FPT 2018-12-25 09:16:00  30.81  30.81  30.81  30.81     190\n",
       "2        FPT 2018-12-25 09:17:00  30.74  30.81  30.74  30.74    1120\n",
       "3        FPT 2018-12-25 09:18:00  30.74  30.74  30.74  30.74    2120\n",
       "4        FPT 2018-12-25 09:19:00  30.74  30.74  30.74  30.74   22500\n",
       "...      ...                 ...    ...    ...    ...    ...     ...\n",
       "97401    FPT 2020-12-22 14:24:00  58.20  58.20  58.20  58.20   27470\n",
       "97402    FPT 2020-12-22 14:25:00  58.20  58.20  58.20  58.20   14820\n",
       "97403    FPT 2020-12-22 14:26:00  58.20  58.20  58.20  58.20     500\n",
       "97404    FPT 2020-12-22 14:29:00  58.10  58.10  58.10  58.10    2500\n",
       "97405    FPT 2020-12-22 14:46:00  58.10  58.10  58.10  58.10   11170\n",
       "\n",
       "[97406 rows x 7 columns]"
      ]
     },
     "execution_count": 3,
     "metadata": {},
     "output_type": "execute_result"
    }
   ],
   "source": [
    "df1 = pd.read_csv(\"./data/FPT.csv\")\n",
    "df1['Date/Time'] = pd.to_datetime(df1['Date/Time'])\n",
    "df1.drop(columns=['Open Interest'], inplace=True)\n",
    "df1"
   ]
  },
  {
   "cell_type": "code",
   "execution_count": 4,
   "metadata": {},
   "outputs": [
    {
     "data": {
      "text/html": [
       "<div>\n",
       "<style scoped>\n",
       "    .dataframe tbody tr th:only-of-type {\n",
       "        vertical-align: middle;\n",
       "    }\n",
       "\n",
       "    .dataframe tbody tr th {\n",
       "        vertical-align: top;\n",
       "    }\n",
       "\n",
       "    .dataframe thead th {\n",
       "        text-align: right;\n",
       "    }\n",
       "</style>\n",
       "<table border=\"1\" class=\"dataframe\">\n",
       "  <thead>\n",
       "    <tr style=\"text-align: right;\">\n",
       "      <th></th>\n",
       "      <th>Date/Time</th>\n",
       "      <th>Close</th>\n",
       "    </tr>\n",
       "  </thead>\n",
       "  <tbody>\n",
       "    <tr>\n",
       "      <th>0</th>\n",
       "      <td>2018-12-25 09:15:00</td>\n",
       "      <td>30.89</td>\n",
       "    </tr>\n",
       "    <tr>\n",
       "      <th>1</th>\n",
       "      <td>2018-12-25 09:16:00</td>\n",
       "      <td>30.81</td>\n",
       "    </tr>\n",
       "    <tr>\n",
       "      <th>2</th>\n",
       "      <td>2018-12-25 09:17:00</td>\n",
       "      <td>30.74</td>\n",
       "    </tr>\n",
       "    <tr>\n",
       "      <th>3</th>\n",
       "      <td>2018-12-25 09:18:00</td>\n",
       "      <td>30.74</td>\n",
       "    </tr>\n",
       "    <tr>\n",
       "      <th>4</th>\n",
       "      <td>2018-12-25 09:19:00</td>\n",
       "      <td>30.74</td>\n",
       "    </tr>\n",
       "    <tr>\n",
       "      <th>...</th>\n",
       "      <td>...</td>\n",
       "      <td>...</td>\n",
       "    </tr>\n",
       "    <tr>\n",
       "      <th>97401</th>\n",
       "      <td>2020-12-22 14:24:00</td>\n",
       "      <td>58.20</td>\n",
       "    </tr>\n",
       "    <tr>\n",
       "      <th>97402</th>\n",
       "      <td>2020-12-22 14:25:00</td>\n",
       "      <td>58.20</td>\n",
       "    </tr>\n",
       "    <tr>\n",
       "      <th>97403</th>\n",
       "      <td>2020-12-22 14:26:00</td>\n",
       "      <td>58.20</td>\n",
       "    </tr>\n",
       "    <tr>\n",
       "      <th>97404</th>\n",
       "      <td>2020-12-22 14:29:00</td>\n",
       "      <td>58.10</td>\n",
       "    </tr>\n",
       "    <tr>\n",
       "      <th>97405</th>\n",
       "      <td>2020-12-22 14:46:00</td>\n",
       "      <td>58.10</td>\n",
       "    </tr>\n",
       "  </tbody>\n",
       "</table>\n",
       "<p>97406 rows × 2 columns</p>\n",
       "</div>"
      ],
      "text/plain": [
       "                Date/Time  Close\n",
       "0     2018-12-25 09:15:00  30.89\n",
       "1     2018-12-25 09:16:00  30.81\n",
       "2     2018-12-25 09:17:00  30.74\n",
       "3     2018-12-25 09:18:00  30.74\n",
       "4     2018-12-25 09:19:00  30.74\n",
       "...                   ...    ...\n",
       "97401 2020-12-22 14:24:00  58.20\n",
       "97402 2020-12-22 14:25:00  58.20\n",
       "97403 2020-12-22 14:26:00  58.20\n",
       "97404 2020-12-22 14:29:00  58.10\n",
       "97405 2020-12-22 14:46:00  58.10\n",
       "\n",
       "[97406 rows x 2 columns]"
      ]
     },
     "execution_count": 4,
     "metadata": {},
     "output_type": "execute_result"
    }
   ],
   "source": [
    "df1 = df1[['Date/Time', 'Close']]\n",
    "df1 "
   ]
  },
  {
   "cell_type": "code",
   "execution_count": 5,
   "metadata": {},
   "outputs": [
    {
     "data": {
      "text/plain": [
       "[<matplotlib.lines.Line2D at 0x291ff7809a0>]"
      ]
     },
     "execution_count": 5,
     "metadata": {},
     "output_type": "execute_result"
    },
    {
     "data": {
      "image/png": "[encoded data removed]",
      "text/plain": [
       "<Figure size 640x480 with 1 Axes>"
      ]
     },
     "metadata": {},
     "output_type": "display_data"
    }
   ],
   "source": [
    "plt.plot(df1['Date/Time'], df1['Close'])"
   ]
  },
  {
   "cell_type": "code",
   "execution_count": 6,
   "metadata": {},
   "outputs": [
    {
     "data": {
      "text/html": [
       "<div>\n",
       "<style scoped>\n",
       "    .dataframe tbody tr th:only-of-type {\n",
       "        vertical-align: middle;\n",
       "    }\n",
       "\n",
       "    .dataframe tbody tr th {\n",
       "        vertical-align: top;\n",
       "    }\n",
       "\n",
       "    .dataframe thead th {\n",
       "        text-align: right;\n",
       "    }\n",
       "</style>\n",
       "<table border=\"1\" class=\"dataframe\">\n",
       "  <thead>\n",
       "    <tr style=\"text-align: right;\">\n",
       "      <th></th>\n",
       "      <th>Close</th>\n",
       "      <th>Close(t-1)</th>\n",
       "      <th>Close(t-2)</th>\n",
       "      <th>Close(t-3)</th>\n",
       "      <th>Close(t-4)</th>\n",
       "      <th>Close(t-5)</th>\n",
       "      <th>Close(t-6)</th>\n",
       "      <th>Close(t-7)</th>\n",
       "      <th>Close(t-8)</th>\n",
       "      <th>Close(t-9)</th>\n",
       "      <th>Close(t-10)</th>\n",
       "    </tr>\n",
       "    <tr>\n",
       "      <th>Date/Time</th>\n",
       "      <th></th>\n",
       "      <th></th>\n",
       "      <th></th>\n",
       "      <th></th>\n",
       "      <th></th>\n",
       "      <th></th>\n",
       "      <th></th>\n",
       "      <th></th>\n",
       "      <th></th>\n",
       "      <th></th>\n",
       "      <th></th>\n",
       "    </tr>\n",
       "  </thead>\n",
       "  <tbody>\n",
       "    <tr>\n",
       "      <th>2018-12-26 09:18:00</th>\n",
       "      <td>31.15</td>\n",
       "      <td>31.19</td>\n",
       "      <td>31.19</td>\n",
       "      <td>31.11</td>\n",
       "      <td>30.66</td>\n",
       "      <td>30.74</td>\n",
       "      <td>30.74</td>\n",
       "      <td>30.74</td>\n",
       "      <td>30.74</td>\n",
       "      <td>30.81</td>\n",
       "      <td>30.89</td>\n",
       "    </tr>\n",
       "    <tr>\n",
       "      <th>2018-12-26 09:19:00</th>\n",
       "      <td>31.11</td>\n",
       "      <td>31.15</td>\n",
       "      <td>31.19</td>\n",
       "      <td>31.19</td>\n",
       "      <td>31.11</td>\n",
       "      <td>30.66</td>\n",
       "      <td>30.74</td>\n",
       "      <td>30.74</td>\n",
       "      <td>30.74</td>\n",
       "      <td>30.74</td>\n",
       "      <td>30.81</td>\n",
       "    </tr>\n",
       "    <tr>\n",
       "      <th>2018-12-26 09:20:00</th>\n",
       "      <td>31.11</td>\n",
       "      <td>31.11</td>\n",
       "      <td>31.15</td>\n",
       "      <td>31.19</td>\n",
       "      <td>31.19</td>\n",
       "      <td>31.11</td>\n",
       "      <td>30.66</td>\n",
       "      <td>30.74</td>\n",
       "      <td>30.74</td>\n",
       "      <td>30.74</td>\n",
       "      <td>30.74</td>\n",
       "    </tr>\n",
       "    <tr>\n",
       "      <th>2018-12-26 09:22:00</th>\n",
       "      <td>31.11</td>\n",
       "      <td>31.11</td>\n",
       "      <td>31.11</td>\n",
       "      <td>31.15</td>\n",
       "      <td>31.19</td>\n",
       "      <td>31.19</td>\n",
       "      <td>31.11</td>\n",
       "      <td>30.66</td>\n",
       "      <td>30.74</td>\n",
       "      <td>30.74</td>\n",
       "      <td>30.74</td>\n",
       "    </tr>\n",
       "    <tr>\n",
       "      <th>2018-12-26 09:23:00</th>\n",
       "      <td>31.19</td>\n",
       "      <td>31.11</td>\n",
       "      <td>31.11</td>\n",
       "      <td>31.11</td>\n",
       "      <td>31.15</td>\n",
       "      <td>31.19</td>\n",
       "      <td>31.19</td>\n",
       "      <td>31.11</td>\n",
       "      <td>30.66</td>\n",
       "      <td>30.74</td>\n",
       "      <td>30.74</td>\n",
       "    </tr>\n",
       "    <tr>\n",
       "      <th>...</th>\n",
       "      <td>...</td>\n",
       "      <td>...</td>\n",
       "      <td>...</td>\n",
       "      <td>...</td>\n",
       "      <td>...</td>\n",
       "      <td>...</td>\n",
       "      <td>...</td>\n",
       "      <td>...</td>\n",
       "      <td>...</td>\n",
       "      <td>...</td>\n",
       "      <td>...</td>\n",
       "    </tr>\n",
       "    <tr>\n",
       "      <th>2020-12-22 14:24:00</th>\n",
       "      <td>58.20</td>\n",
       "      <td>58.20</td>\n",
       "      <td>58.10</td>\n",
       "      <td>58.10</td>\n",
       "      <td>58.10</td>\n",
       "      <td>58.10</td>\n",
       "      <td>58.10</td>\n",
       "      <td>58.10</td>\n",
       "      <td>58.10</td>\n",
       "      <td>58.10</td>\n",
       "      <td>58.20</td>\n",
       "    </tr>\n",
       "    <tr>\n",
       "      <th>2020-12-22 14:25:00</th>\n",
       "      <td>58.20</td>\n",
       "      <td>58.20</td>\n",
       "      <td>58.20</td>\n",
       "      <td>58.10</td>\n",
       "      <td>58.10</td>\n",
       "      <td>58.10</td>\n",
       "      <td>58.10</td>\n",
       "      <td>58.10</td>\n",
       "      <td>58.10</td>\n",
       "      <td>58.10</td>\n",
       "      <td>58.10</td>\n",
       "    </tr>\n",
       "    <tr>\n",
       "      <th>2020-12-22 14:26:00</th>\n",
       "      <td>58.20</td>\n",
       "      <td>58.20</td>\n",
       "      <td>58.20</td>\n",
       "      <td>58.20</td>\n",
       "      <td>58.10</td>\n",
       "      <td>58.10</td>\n",
       "      <td>58.10</td>\n",
       "      <td>58.10</td>\n",
       "      <td>58.10</td>\n",
       "      <td>58.10</td>\n",
       "      <td>58.10</td>\n",
       "    </tr>\n",
       "    <tr>\n",
       "      <th>2020-12-22 14:29:00</th>\n",
       "      <td>58.10</td>\n",
       "      <td>58.20</td>\n",
       "      <td>58.20</td>\n",
       "      <td>58.20</td>\n",
       "      <td>58.20</td>\n",
       "      <td>58.10</td>\n",
       "      <td>58.10</td>\n",
       "      <td>58.10</td>\n",
       "      <td>58.10</td>\n",
       "      <td>58.10</td>\n",
       "      <td>58.10</td>\n",
       "    </tr>\n",
       "    <tr>\n",
       "      <th>2020-12-22 14:46:00</th>\n",
       "      <td>58.10</td>\n",
       "      <td>58.10</td>\n",
       "      <td>58.20</td>\n",
       "      <td>58.20</td>\n",
       "      <td>58.20</td>\n",
       "      <td>58.20</td>\n",
       "      <td>58.10</td>\n",
       "      <td>58.10</td>\n",
       "      <td>58.10</td>\n",
       "      <td>58.10</td>\n",
       "      <td>58.10</td>\n",
       "    </tr>\n",
       "  </tbody>\n",
       "</table>\n",
       "<p>97396 rows × 11 columns</p>\n",
       "</div>"
      ],
      "text/plain": [
       "                     Close  Close(t-1)  Close(t-2)  Close(t-3)  Close(t-4)  \\\n",
       "Date/Time                                                                    \n",
       "2018-12-26 09:18:00  31.15       31.19       31.19       31.11       30.66   \n",
       "2018-12-26 09:19:00  31.11       31.15       31.19       31.19       31.11   \n",
       "2018-12-26 09:20:00  31.11       31.11       31.15       31.19       31.19   \n",
       "2018-12-26 09:22:00  31.11       31.11       31.11       31.15       31.19   \n",
       "2018-12-26 09:23:00  31.19       31.11       31.11       31.11       31.15   \n",
       "...                    ...         ...         ...         ...         ...   \n",
       "2020-12-22 14:24:00  58.20       58.20       58.10       58.10       58.10   \n",
       "2020-12-22 14:25:00  58.20       58.20       58.20       58.10       58.10   \n",
       "2020-12-22 14:26:00  58.20       58.20       58.20       58.20       58.10   \n",
       "2020-12-22 14:29:00  58.10       58.20       58.20       58.20       58.20   \n",
       "2020-12-22 14:46:00  58.10       58.10       58.20       58.20       58.20   \n",
       "\n",
       "                     Close(t-5)  Close(t-6)  Close(t-7)  Close(t-8)  \\\n",
       "Date/Time                                                             \n",
       "2018-12-26 09:18:00       30.74       30.74       30.74       30.74   \n",
       "2018-12-26 09:19:00       30.66       30.74       30.74       30.74   \n",
       "2018-12-26 09:20:00       31.11       30.66       30.74       30.74   \n",
       "2018-12-26 09:22:00       31.19       31.11       30.66       30.74   \n",
       "2018-12-26 09:23:00       31.19       31.19       31.11       30.66   \n",
       "...                         ...         ...         ...         ...   \n",
       "2020-12-22 14:24:00       58.10       58.10       58.10       58.10   \n",
       "2020-12-22 14:25:00       58.10       58.10       58.10       58.10   \n",
       "2020-12-22 14:26:00       58.10       58.10       58.10       58.10   \n",
       "2020-12-22 14:29:00       58.10       58.10       58.10       58.10   \n",
       "2020-12-22 14:46:00       58.20       58.10       58.10       58.10   \n",
       "\n",
       "                     Close(t-9)  Close(t-10)  \n",
       "Date/Time                                     \n",
       "2018-12-26 09:18:00       30.81        30.89  \n",
       "2018-12-26 09:19:00       30.74        30.81  \n",
       "2018-12-26 09:20:00       30.74        30.74  \n",
       "2018-12-26 09:22:00       30.74        30.74  \n",
       "2018-12-26 09:23:00       30.74        30.74  \n",
       "...                         ...          ...  \n",
       "2020-12-22 14:24:00       58.10        58.20  \n",
       "2020-12-22 14:25:00       58.10        58.10  \n",
       "2020-12-22 14:26:00       58.10        58.10  \n",
       "2020-12-22 14:29:00       58.10        58.10  \n",
       "2020-12-22 14:46:00       58.10        58.10  \n",
       "\n",
       "[97396 rows x 11 columns]"
      ]
     },
     "execution_count": 6,
     "metadata": {},
     "output_type": "execute_result"
    }
   ],
   "source": [
    "# See previous\n",
    "from copy import deepcopy as dc \n",
    "def prepare_dataframe_from_lstm(df1, n_steps):\n",
    "    df1 = dc(df1)\n",
    "    df1.set_index('Date/Time', inplace=True)\n",
    "    \n",
    "    for i in range (1, n_steps + 1):\n",
    "        df1[f'Close(t-{i})'] = df1['Close'].shift(i)\n",
    "    df1.dropna(inplace=True)\n",
    "    return df1\n",
    "\n",
    "\n",
    "lookback = 10\n",
    "shifted_df = prepare_dataframe_from_lstm(df1, lookback)\n",
    "shifted_df"
   ]
  },
  {
   "cell_type": "code",
   "execution_count": 7,
   "metadata": {},
   "outputs": [
    {
     "data": {
      "text/plain": [
       "(97396, 11)"
      ]
     },
     "execution_count": 7,
     "metadata": {},
     "output_type": "execute_result"
    }
   ],
   "source": [
    "#Scaler data\n",
    "shifted_df_as_np = shifted_df.to_numpy()\n",
    "scaler = MinMaxScaler(feature_range=(-1, 1))\n",
    "shifted_df_as_np = scaler.fit_transform(shifted_df_as_np)\n",
    "shifted_df_as_np.shape"
   ]
  },
  {
   "cell_type": "code",
   "execution_count": 8,
   "metadata": {},
   "outputs": [
    {
     "data": {
      "text/plain": [
       "array([[-0.95452931, -0.96021314, -0.9651865 , ..., -0.93889876,\n",
       "        -0.93321492, -0.93321492],\n",
       "       [-0.96021314, -0.9651865 , -0.9651865 , ..., -0.93321492,\n",
       "        -0.93321492, -0.93605684],\n",
       "       [-0.9651865 , -0.9651865 , -0.9651865 , ..., -0.93321492,\n",
       "        -0.93605684, -0.93889876],\n",
       "       ...,\n",
       "       [ 0.97868561,  0.97868561,  0.97868561, ...,  0.98579041,\n",
       "         0.98579041,  0.98579041],\n",
       "       [ 0.97868561,  0.97868561,  0.97868561, ...,  0.98579041,\n",
       "         0.98579041,  0.98579041],\n",
       "       [ 0.97868561,  0.97868561,  0.97868561, ...,  0.98579041,\n",
       "         0.98579041,  0.97868561]])"
      ]
     },
     "execution_count": 8,
     "metadata": {},
     "output_type": "execute_result"
    }
   ],
   "source": [
    "#Split data X, Y\n",
    "X = shifted_df_as_np[:, 1:]\n",
    "y = shifted_df_as_np[:, 0]\n",
    "X = dc(np.flip(X, axis=1))\n",
    "X\n"
   ]
  },
  {
   "cell_type": "code",
   "execution_count": 15,
   "metadata": {},
   "outputs": [
    {
     "data": {
      "text/plain": [
       "((77916, 10, 1), (19480, 10, 1), (77916, 1), (19480, 1))"
      ]
     },
     "execution_count": 15,
     "metadata": {},
     "output_type": "execute_result"
    }
   ],
   "source": [
    "#Split data for training and validation \n",
    "split_index = int(len(X) * 0.80)\n",
    "split_index\n",
    "X_train = X[:split_index]\n",
    "X_train = X_train.reshape((-1, lookback, 1))\n",
    "X_test = X[split_index:]\n",
    "X_test = X_test.reshape((-1, lookback, 1))\n",
    "\n",
    "y_train = y[:split_index]\n",
    "y_train = y_train.reshape((-1, 1))\n",
    "y_test = y[split_index:]\n",
    "y_test = y_test.reshape((-1, 1))\n",
    "\n",
    "X_train.shape, X_test.shape, y_train.shape, y_test.shape"
   ]
  },
  {
   "cell_type": "code",
   "execution_count": 19,
   "metadata": {},
   "outputs": [
    {
     "name": "stderr",
     "output_type": "stream",
     "text": [
      "C:\\Users\\Admin\\AppData\\Local\\Temp\\ipykernel_12348\\3189477695.py:2: UserWarning: To copy construct from a tensor, it is recommended to use sourceTensor.clone().detach() or sourceTensor.clone().detach().requires_grad_(True), rather than torch.tensor(sourceTensor).\n",
      "  X_train = torch.tensor(X_train).float()\n",
      "C:\\Users\\Admin\\AppData\\Local\\Temp\\ipykernel_12348\\3189477695.py:3: UserWarning: To copy construct from a tensor, it is recommended to use sourceTensor.clone().detach() or sourceTensor.clone().detach().requires_grad_(True), rather than torch.tensor(sourceTensor).\n",
      "  y_train = torch.tensor(y_train).float()\n",
      "C:\\Users\\Admin\\AppData\\Local\\Temp\\ipykernel_12348\\3189477695.py:4: UserWarning: To copy construct from a tensor, it is recommended to use sourceTensor.clone().detach() or sourceTensor.clone().detach().requires_grad_(True), rather than torch.tensor(sourceTensor).\n",
      "  X_test = torch.tensor(X_test).float()\n",
      "C:\\Users\\Admin\\AppData\\Local\\Temp\\ipykernel_12348\\3189477695.py:5: UserWarning: To copy construct from a tensor, it is recommended to use sourceTensor.clone().detach() or sourceTensor.clone().detach().requires_grad_(True), rather than torch.tensor(sourceTensor).\n",
      "  y_test = torch.tensor(y_test).float()\n"
     ]
    },
    {
     "data": {
      "text/plain": [
       "(torch.Size([77916, 10, 1]),\n",
       " torch.Size([19480, 10, 1]),\n",
       " torch.Size([77916, 1]),\n",
       " torch.Size([19480, 1]))"
      ]
     },
     "execution_count": 19,
     "metadata": {},
     "output_type": "execute_result"
    }
   ],
   "source": [
    "# Convert to tensor \n",
    "X_train = torch.tensor(X_train).float()\n",
    "y_train = torch.tensor(y_train).float()\n",
    "X_test = torch.tensor(X_test).float()\n",
    "y_test = torch.tensor(y_test).float()\n",
    "X_train.shape, X_test.shape, y_train.shape, y_test.shape"
   ]
  },
  {
   "cell_type": "code",
   "execution_count": 20,
   "metadata": {},
   "outputs": [],
   "source": [
    "from torch.utils.data import Dataset\n",
    "\n",
    "class TimeSeriesDataset(Dataset):\n",
    "    def __init__(self, X, y):\n",
    "        self.X = X\n",
    "        self.y = y\n",
    "\n",
    "    def __len__(self):\n",
    "        return len(self.X)\n",
    "\n",
    "    def __getitem__(self, i):\n",
    "        return self.X[i], self.y[i]\n",
    "    \n",
    "train_dataset = TimeSeriesDataset(X_train, y_train)\n",
    "validation_dataset = TimeSeriesDataset(X_test, y_test)\n"
   ]
  },
  {
   "cell_type": "code",
   "execution_count": 21,
   "metadata": {},
   "outputs": [],
   "source": [
    "device ='cpu'"
   ]
  },
  {
   "cell_type": "code",
   "execution_count": 22,
   "metadata": {},
   "outputs": [
    {
     "name": "stdout",
     "output_type": "stream",
     "text": [
      "torch.Size([16, 10, 1]) torch.Size([16, 1])\n"
     ]
    }
   ],
   "source": [
    "#Config\n",
    "batch_size = 16\n",
    "train_loader = DataLoader(train_dataset, batch_size=batch_size, shuffle=True)\n",
    "validation_loader = DataLoader(validation_dataset, batch_size=batch_size, shuffle=False)\n",
    "for _, batch in enumerate(train_loader):\n",
    "    x_batch, y_batch = batch[0].to(device), batch[1].to(device)\n",
    "    print(x_batch.shape, y_batch.shape)\n",
    "    break"
   ]
  },
  {
   "cell_type": "code",
   "execution_count": 23,
   "metadata": {},
   "outputs": [
    {
     "data": {
      "text/plain": [
       "'cpu'"
      ]
     },
     "execution_count": 23,
     "metadata": {},
     "output_type": "execute_result"
    }
   ],
   "source": [
    "device ='cpu'\n",
    "device"
   ]
  },
  {
   "cell_type": "code",
   "execution_count": 24,
   "metadata": {},
   "outputs": [
    {
     "data": {
      "text/plain": [
       "LSTM(\n",
       "  (lstm): LSTM(1, 4, batch_first=True)\n",
       "  (fc): Linear(in_features=4, out_features=1, bias=True)\n",
       ")"
      ]
     },
     "execution_count": 24,
     "metadata": {},
     "output_type": "execute_result"
    }
   ],
   "source": [
    "#Model\n",
    "class LSTM(nn.Module):\n",
    "    def __init__(self, input_size, hidden_size, layers):\n",
    "        super().__init__()\n",
    "        self.hidden_size = hidden_size\n",
    "        self.layers = layers\n",
    "        self.lstm = nn.LSTM(input_size, hidden_size, layers, batch_first=True)   \n",
    "        self.fc = nn.Linear(hidden_size, 1)\n",
    "    def forward(self, x):\n",
    "        batch_size = x.size(0)\n",
    "        h0 = torch.zeros(self.layers, batch_size, self.hidden_size).to(device)\n",
    "        c0 = torch.zeros(self.layers, batch_size, self.hidden_size).to(device)\n",
    "        \n",
    "        out, _ = self.lstm(x, (h0, c0))\n",
    "        out = self.fc(out[:, -1, :])\n",
    "        return out\n",
    "\n",
    "model = LSTM(1, 4, 1)\n",
    "model.to(device)\n",
    "model\n"
   ]
  },
  {
   "cell_type": "code",
   "execution_count": 25,
   "metadata": {},
   "outputs": [],
   "source": [
    "# Setup train\n",
    "model = LSTM(1, 4, 1)\n",
    "learning_rate = 0.01\n",
    "num_epochs = 10\n",
    "criterion = nn.MSELoss()\n",
    "optimizer = torch.optim.Adam(model.parameters(), lr=learning_rate)"
   ]
  },
  {
   "cell_type": "code",
   "execution_count": 26,
   "metadata": {},
   "outputs": [],
   "source": [
    "# Train \n",
    "def train(model, criterion, train_loader, validation_loader, optimizer, epochs):\n",
    "    i = 0\n",
    "    loss_accuracy = {'training_loss':[], 'validation_accuracy':[]}  \n",
    "    \n",
    "    for epoch in range(epochs):\n",
    "        for i,(x, y) in enumerate(train_loader):\n",
    "            optimizer.zero_grad()\n",
    "            z = model(x)\n",
    "            loss = criterion(z, y)\n",
    "            loss.backward()\n",
    "            optimizer.step()\n",
    "            loss_accuracy['training_loss'].append(loss.data.item())\n",
    "            \n",
    "        correct = 0\n",
    "        for x, y in validation_loader:\n",
    "            yhat = model(x)\n",
    "            _, label = torch.max(yhat, 1)\n",
    "            correct += (label==y).sum().item()\n",
    "        accuracy = 100 * (correct / len(validation_dataset))\n",
    "        loss_accuracy['validation_accuracy'].append(accuracy)\n",
    "        \n",
    "    return loss_accuracy"
   ]
  },
  {
   "cell_type": "code",
   "execution_count": 27,
   "metadata": {},
   "outputs": [],
   "source": [
    "MSE = train(model, criterion, train_loader, validation_loader, optimizer, num_epochs)"
   ]
  },
  {
   "cell_type": "code",
   "execution_count": 28,
   "metadata": {},
   "outputs": [
    {
     "data": {
      "image/png": "[encoded data removed]",
      "text/plain": [
       "<Figure size 640x480 with 1 Axes>"
      ]
     },
     "metadata": {},
     "output_type": "display_data"
    }
   ],
   "source": [
    "with torch.no_grad():\n",
    "    predicted = model(X_train.to(device)).to('cpu').numpy()\n",
    "\n",
    "plt.plot(y_train, label='Close')\n",
    "plt.plot(predicted, label='Pred Close')\n",
    "plt.xlabel('Day')\n",
    "plt.ylabel('Close')\n",
    "plt.legend()\n",
    "plt.show()"
   ]
  },
  {
   "cell_type": "code",
   "execution_count": 29,
   "metadata": {},
   "outputs": [
    {
     "data": {
      "text/plain": [
       "array([31.32162752, 31.31223564, 31.27005984, ..., 48.13951667,\n",
       "       48.14780996, 48.2338172 ])"
      ]
     },
     "execution_count": 29,
     "metadata": {},
     "output_type": "execute_result"
    }
   ],
   "source": [
    "train_predictions = predicted.flatten()\n",
    "\n",
    "dummies = np.zeros((X_train.shape[0], lookback+1))\n",
    "dummies[:, 0] = train_predictions\n",
    "dummies = scaler.inverse_transform(dummies)\n",
    "\n",
    "train_predictions = dc(dummies[:, 0])\n",
    "train_predictions"
   ]
  },
  {
   "cell_type": "code",
   "execution_count": 30,
   "metadata": {},
   "outputs": [
    {
     "data": {
      "text/plain": [
       "array([31.1499998 , 31.1100002 , 31.1100002 , ..., 48.00000004,\n",
       "       48.09999987, 48.09999987])"
      ]
     },
     "execution_count": 30,
     "metadata": {},
     "output_type": "execute_result"
    }
   ],
   "source": [
    "dummies = np.zeros((X_train.shape[0], lookback+1))\n",
    "dummies[:, 0] = y_train.flatten()\n",
    "dummies = scaler.inverse_transform(dummies)\n",
    "\n",
    "new_y_train = dc(dummies[:, 0])\n",
    "new_y_train"
   ]
  },
  {
   "cell_type": "code",
   "execution_count": 31,
   "metadata": {},
   "outputs": [
    {
     "data": {
      "image/png": "[encoded data removed]",
      "text/plain": [
       "<Figure size 640x480 with 1 Axes>"
      ]
     },
     "metadata": {},
     "output_type": "display_data"
    }
   ],
   "source": [
    "plt.plot(new_y_train, label='Close')\n",
    "plt.plot(train_predictions, label='Pred Close')\n",
    "plt.xlabel('Day')\n",
    "plt.ylabel('Close')\n",
    "plt.legend()\n",
    "plt.show()"
   ]
  },
  {
   "cell_type": "code",
   "execution_count": 32,
   "metadata": {},
   "outputs": [
    {
     "data": {
      "text/plain": [
       "array([48.25067309, 48.25156529, 48.25010345, ..., 58.49047918,\n",
       "       58.50194575, 58.48380125])"
      ]
     },
     "execution_count": 32,
     "metadata": {},
     "output_type": "execute_result"
    }
   ],
   "source": [
    "test_predictions = model(X_test.to(device)).detach().cpu().numpy().flatten()\n",
    "\n",
    "dummies = np.zeros((X_test.shape[0], lookback+1))\n",
    "dummies[:, 0] = test_predictions\n",
    "dummies = scaler.inverse_transform(dummies)\n",
    "\n",
    "test_predictions = dc(dummies[:, 0])\n",
    "test_predictions"
   ]
  },
  {
   "cell_type": "code",
   "execution_count": 33,
   "metadata": {},
   "outputs": [
    {
     "data": {
      "text/plain": [
       "array([48.09999987, 48.09999987, 48.15      , ..., 58.20000032,\n",
       "       58.10000007, 58.10000007])"
      ]
     },
     "execution_count": 33,
     "metadata": {},
     "output_type": "execute_result"
    }
   ],
   "source": [
    "dummies = np.zeros((X_test.shape[0], lookback+1))\n",
    "dummies[:, 0] = y_test.flatten()\n",
    "dummies = scaler.inverse_transform(dummies)\n",
    "\n",
    "new_y_test = dc(dummies[:, 0])\n",
    "new_y_test"
   ]
  },
  {
   "cell_type": "code",
   "execution_count": 34,
   "metadata": {},
   "outputs": [
    {
     "data": {
      "image/png": "[encoded data removed]",
      "text/plain": [
       "<Figure size 640x480 with 1 Axes>"
      ]
     },
     "metadata": {},
     "output_type": "display_data"
    }
   ],
   "source": [
    "plt.plot(new_y_test, label='Close')\n",
    "plt.plot(test_predictions, label='Pred Close')\n",
    "plt.xlabel('Day')\n",
    "plt.ylabel('Close')\n",
    "plt.legend()\n",
    "plt.show()"
   ]
  },
  {
   "cell_type": "code",
   "execution_count": null,
   "metadata": {},
   "outputs": [],
   "source": []
  }
 ],
 "metadata": {
  "kernelspec": {
   "display_name": "Python 3",
   "language": "python",
   "name": "python3"
  },
  "language_info": {
   "codemirror_mode": {
    "name": "ipython",
    "version": 3
   },
   "file_extension": ".py",
   "mimetype": "text/x-python",
   "name": "python",
   "nbconvert_exporter": "python",
   "pygments_lexer": "ipython3",
   "version": "3.10.14"
  }
 },
 "nbformat": 4,
 "nbformat_minor": 2
}
